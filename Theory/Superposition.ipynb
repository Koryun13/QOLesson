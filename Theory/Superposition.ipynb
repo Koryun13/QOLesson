{
 "cells": [
  {
   "cell_type": "code",
   "execution_count": 1,
   "metadata": {},
   "outputs": [
    {
     "name": "stdout",
     "output_type": "stream",
     "text": [
      "Superposition: "
     ]
    },
    {
     "name": "stdout",
     "output_type": "stream",
     "text": [
      "[0.8, 0.6]\n"
     ]
    }
   ],
   "source": [
    "# Define the two states \n",
    "ψ₁ = [0, 1]  # |1>\n",
    "ψ₂ = [1, 0]  # |0>\n",
    "\n",
    "# Define the coefficients of the superposition\n",
    "alpha = 0.6\n",
    "beta = 0.8\n",
    "\n",
    "# Combine the states with the coefficients to create the superposition\n",
    "superposition = alpha * ψ₁ + beta * ψ₂\n",
    "\n",
    "# Print the resulting superposition\n",
    "println(\"Superposition: \", superposition)"
   ]
  }
 ],
 "metadata": {
  "kernelspec": {
   "display_name": "Julia 1.8.5",
   "language": "julia",
   "name": "julia-1.8"
  },
  "language_info": {
   "file_extension": ".jl",
   "mimetype": "application/julia",
   "name": "julia",
   "version": "1.8.5"
  },
  "orig_nbformat": 4
 },
 "nbformat": 4,
 "nbformat_minor": 2
}
