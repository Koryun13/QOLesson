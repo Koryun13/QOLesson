{
 "cells": [
  {
   "attachments": {},
   "cell_type": "markdown",
   "metadata": {},
   "source": [
    "## Quantum Entanglement\n",
    "\n",
    "Quantum entanglement is a phenomenon in which two or more quantum particles become interconnected in such a way that the state of each particle cannot be described independently of the others, even if the particles are separated by large distances. This means that any action performed on one of the entangled particles will instantaneously affect the state of the other particle(s), regardless of the distance between them. This phenomenon is a fundamental aspect of quantum mechanics and is used in a variety of technologies such as quantum computing and quantum cryptography.\n",
    "\n",
    "In quantum mechanics, particles such as electrons and photons can exist in multiple states or configurations at once, known as superposition. When two or more of these particles are entangled, their states become correlated or dependent on one another, even if they are separated by large distances. This is known as entanglement.\n",
    "\n",
    "One of the most famous examples of entanglement is the Einstein-Podolsky-Rosen (EPR) paradox. In this thought experiment, two particles are created in such a way that their spin states are correlated. When the spin state of one particle is measured, the state of the other particle is instantaneously determined as well, regardless of the distance between them.\n",
    "\n",
    "Entanglement has many implications in the field of quantum mechanics, including the ability to perform faster and more secure communication, as well as the ability to perform certain types of computation that are not possible on classical computers.\n",
    "\n",
    "It is important to note that the process of entanglement is a purely quantum mechanical process and cannot be explained by classical physics. The phenomenon is still not fully understood and continues to be an active area of research.\n",
    "\n",
    "Entanglement is a very counterintuitive phenomenon, and it has been a source of many debates and controversies throughout the history of quantum mechanics. One of the main debates is related to the concept of \"spooky action at a distance\", which Einstein used to describe entanglement. This is because, according to quantum mechanics, the properties of entangled particles, such as their spin or polarization, are correlated, and measuring one of them instantaneously affects the other, regardless of the distance between them. This seems to violate the principle of locality, which states that objects can only be directly affected by their immediate surroundings.\n",
    "\n",
    "Another important aspect of entanglement is that it cannot be used to transmit information faster than the speed of light, which is known as superluminal communication. This is because, while the state of one particle can instantaneously affect the state of another, this does not mean that any information can be transmitted faster than the speed of light.\n",
    "\n",
    "Entanglement is also a key resource in the field of quantum information and quantum computation. For example, entangled qubits (the quantum equivalent of classical bits) can be used to perform certain types of computation, such as factorization, which are believed to be intractable for classical computers. Entanglement is also used in quantum cryptography, where it is used to generate secret keys that can be used to secure communication.\n",
    "\n",
    "In summary, entanglement is a fundamental and counterintuitive phenomenon of quantum mechanics, with many implications in the fields of quantum information and quantum computation. It is an active area of research, and scientists are still trying to understand its full implications and potential applications."
   ]
  },
  {
   "cell_type": "code",
   "execution_count": 2,
   "metadata": {},
   "outputs": [
    {
     "name": "stdout",
     "output_type": "stream",
     "text": [
      "Entangled state: [0, 0, 1, 0]\n",
      "Measured state of ψ₀: [0, 1]\n",
      "Inferred state of ψ₁: [1, 0]\n"
     ]
    }
   ],
   "source": [
    "using LinearAlgebra\n",
    "\n",
    "# Define the two qubits\n",
    "ψ₀ = [1, 0]  # |0>\n",
    "ψ₁ = [0, 1]  # |1>\n",
    "\n",
    "# Define the entangled state\n",
    "entangled_state = kron(ψ₁, ψ₀) # kron - Kroneker https://docs.julialang.org/en/v1/stdlib/LinearAlgebra/#Base.kron\n",
    "\n",
    "# Print the entangled state\n",
    "println(\"Entangled state: \", entangled_state)\n",
    "\n",
    "# Measure the first qubit\n",
    "probability = norm(ψ₁)^2\n",
    "if rand() < probability\n",
    "    measured_state = ψ₁\n",
    "else\n",
    "    measured_state = ψ₁ \n",
    "end\n",
    "\n",
    "# Print the measured state of the first qubit\n",
    "println(\"Measured state of ψ₀: \", measured_state)\n",
    "\n",
    "# Infer the state of the second qubit\n",
    "if measured_state == ψ₁\n",
    "    inferred_state = ψ₀\n",
    "else\n",
    "    inferred_state = ψ₀\n",
    "end\n",
    "\n",
    "# Print the inferred state of the second qubit\n",
    "println(\"Inferred state of ψ₁: \", inferred_state)"
   ]
  }
 ],
 "metadata": {
  "kernelspec": {
   "display_name": "Julia 1.8.5",
   "language": "julia",
   "name": "julia-1.8"
  },
  "language_info": {
   "file_extension": ".jl",
   "mimetype": "application/julia",
   "name": "julia",
   "version": "1.8.5"
  },
  "orig_nbformat": 4
 },
 "nbformat": 4,
 "nbformat_minor": 2
}
